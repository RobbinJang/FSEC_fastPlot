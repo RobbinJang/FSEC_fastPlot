{
 "cells": [
  {
   "cell_type": "markdown",
   "id": "3fa22812",
   "metadata": {},
   "source": [
    "# Use this notebook in the same directory as your FSEC data files."
   ]
  },
  {
   "cell_type": "code",
   "execution_count": 4,
   "id": "19674afd",
   "metadata": {},
   "outputs": [],
   "source": [
    "import glob\n",
    "file_list = [f for f in glob.glob(\"*.txt\")]\n",
    "#file_list = ['24_ET1.txt', '48_ET1.txt','72_ET1.txt','24_GluA1GFP.txt','48_GluA1GFP.txt','72_GluA1GFP.txt','24_GluA2GFP.txt','48_GluA2_GFP.txt','72_GluA2GFP.txt','24_negCTRL.txt','48_negCTRL.txt','72_negCTRL.txt']\n",
    "import numpy as np\n",
    "import pandas as pd\n",
    "import matplotlib.pyplot as plt\n",
    "from matplotlib import figure\n",
    "#file_list = ['48_negCTRL.txt','72_negCTRL.txt']\n",
    "\n",
    "dfData = pd.DataFrame()\n",
    "for file in file_list:\n",
    "    raw_file = open('txt_files/{}'.format(file))\n",
    "    read_file = raw_file.read()\n",
    "    line_list = read_file.split('\\n')\n",
    "    start = line_list.index('Em. Wavelength(nm)\t507')\n",
    "    end = line_list.index('[LC Status Trace(Pump A Pressure)]')\n",
    "    intensities = []\n",
    "    for line in line_list[start+2:end-1]:\n",
    "        line = line.replace('\\t', ' ')\n",
    "        #print(line)\n",
    "        intensities.append(line[8:15])\n",
    "\n",
    "    dfData[('{}'.format(file))] =  intensities\n",
    "    plt.plot(range(len(intensities)), intensities )\n",
    "    plt.savefig('fig1.png', dpi = 300)\n",
    "    plt.close()\n"
   ]
  },
  {
   "cell_type": "code",
   "execution_count": null,
   "id": "9edfaddd",
   "metadata": {},
   "outputs": [],
   "source": []
  }
 ],
 "metadata": {
  "kernelspec": {
   "display_name": "Python 3 (ipykernel)",
   "language": "python",
   "name": "python3"
  },
  "language_info": {
   "codemirror_mode": {
    "name": "ipython",
    "version": 3
   },
   "file_extension": ".py",
   "mimetype": "text/x-python",
   "name": "python",
   "nbconvert_exporter": "python",
   "pygments_lexer": "ipython3",
   "version": "3.8.11"
  }
 },
 "nbformat": 4,
 "nbformat_minor": 5
}
